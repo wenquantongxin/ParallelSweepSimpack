{
 "cells": [
  {
   "cell_type": "code",
   "execution_count": 11,
   "metadata": {},
   "outputs": [],
   "source": [
    "import os\n",
    "import pandas as pd\n",
    "import numpy as np\n",
    "import itertools\n",
    "import math\n",
    "import concurrent.futures\n",
    "import matplotlib\n",
    "import matplotlib.pyplot as plt\n",
    "matplotlib.use(\"TkAgg\")  # 或者 \"TkAgg\"\n",
    "import shutil\n",
    "\n",
    "from PrepareBatchFiles import (\n",
    "    read_config_opt_excel,\n",
    "    ClearBatchTmpFolder,\n",
    "    prepare_SpckFiles_eachBatch\n",
    ")\n",
    "\n",
    "Lx1_sweep = np.arange(0.44, 0.64 + 0.001, 0.04)  \n",
    "Lx2_sweep = np.arange(0, 0.60 + 0.001, 0.04)  \n",
    "Lx3_sweep = np.arange(-0.6, 0.40 + 0.001, 0.1) \n",
    "\n",
    "Lx123_combinations = list(itertools.product(Lx1_sweep, Lx2_sweep, Lx3_sweep))"
   ]
  },
  {
   "cell_type": "code",
   "execution_count": 7,
   "metadata": {},
   "outputs": [
    {
     "name": "stdout",
     "output_type": "stream",
     "text": [
      "final_results_tag1 shape = (7, 1940)\n",
      "final_results_tag2 shape = (7, 1056)\n",
      "final_results_merged shape = (7, 2996)\n",
      "合并完毕，已保存到：F:\\ResearchMainStream\\0.ResearchBySection\\C.动力学模型\\参数优化\\参数优化实现\\并行化直曲线运行综合评价\\结果分析组\\0126中断至1940-from4090主机\\final_results_merged.npy\n"
     ]
    }
   ],
   "source": [
    "import os\n",
    "import numpy as np\n",
    "\n",
    "# 1) 配置部分信息：文件夹、tag、已有的批次数等\n",
    "checkpoint_dir = r\"F:\\ResearchMainStream\\0.ResearchBySection\\C.动力学模型\\参数优化\\参数优化实现\\并行化直曲线运行综合评价\\结果分析组\\0126中断至1940-from4090主机\"\n",
    "\n",
    "tag1 = \"ALL25\"       # 第一次运行时的 tag\n",
    "tag2 = \"K1940F044\"   # 第二次运行时的 tag\n",
    "\n",
    "# 你知道在第一次运行中 batch 文件到 batch0~batch96 共 97 个\n",
    "num_batches_tag1 = 97\n",
    "\n",
    "# 你知道在第二次运行中 batch 文件到 batch0~batch52 共 53 个\n",
    "num_batches_tag2 = 53\n",
    "\n",
    "# 2) 依次读取 batch_result_tag1_batchN.npy\n",
    "all_batch_results_tag1 = []\n",
    "for batch_idx in range(num_batches_tag1):\n",
    "    filename = f\"batch_result_{tag1}_batch{batch_idx}.npy\"\n",
    "    filepath = os.path.join(checkpoint_dir, filename)\n",
    "    \n",
    "    # 确认文件确实存在（或者你也可以用 try-except 处理）\n",
    "    if not os.path.exists(filepath):\n",
    "        raise FileNotFoundError(f\"文件 {filepath} 不存在，无法加载。\")\n",
    "    \n",
    "    batch_data = np.load(filepath)\n",
    "    # 此时 batch_data.shape 应该是 (7, batch_size_of_this_batch)\n",
    "    all_batch_results_tag1.append(batch_data)\n",
    "\n",
    "# 3) 依次读取 batch_result_tag2_batchN.npy\n",
    "all_batch_results_tag2 = []\n",
    "for batch_idx in range(num_batches_tag2):\n",
    "    filename = f\"batch_result_{tag2}_batch{batch_idx}.npy\"\n",
    "    filepath = os.path.join(checkpoint_dir, filename)\n",
    "    \n",
    "    if not os.path.exists(filepath):\n",
    "        raise FileNotFoundError(f\"文件 {filepath} 不存在，无法加载。\")\n",
    "    \n",
    "    batch_data = np.load(filepath)\n",
    "    all_batch_results_tag2.append(batch_data)\n",
    "\n",
    "# 4) 分别把两批 (all_batch_results_tag1 / all_batch_results_tag2) 沿列拼接\n",
    "final_results_tag1 = np.concatenate(all_batch_results_tag1, axis=1)\n",
    "final_results_tag2 = np.concatenate(all_batch_results_tag2, axis=1)\n",
    "\n",
    "# 如果需要把这两个 final_results 再次拼接为一个大矩阵\n",
    "# （前提是它们在行数上相同，也就是 result_dim 相同）\n",
    "final_results_merged = np.concatenate((final_results_tag1, final_results_tag2), axis=1)\n",
    "\n",
    "print(\"final_results_tag1 shape =\", final_results_tag1.shape)\n",
    "print(\"final_results_tag2 shape =\", final_results_tag2.shape)\n",
    "print(\"final_results_merged shape =\", final_results_merged.shape)\n",
    "\n",
    "# 5) 将合并完的结果保存为一个新的 npy 文件\n",
    "output_filename = \"final_results_merged.npy\"\n",
    "output_filepath = os.path.join(checkpoint_dir, output_filename)\n",
    "np.save(output_filepath, final_results_merged)\n",
    "print(f\"合并完毕，已保存到：{output_filepath}\")\n"
   ]
  }
 ],
 "metadata": {
  "kernelspec": {
   "display_name": "pypack",
   "language": "python",
   "name": "python3"
  },
  "language_info": {
   "codemirror_mode": {
    "name": "ipython",
    "version": 3
   },
   "file_extension": ".py",
   "mimetype": "text/x-python",
   "name": "python",
   "nbconvert_exporter": "python",
   "pygments_lexer": "ipython3",
   "version": "3.10.16"
  }
 },
 "nbformat": 4,
 "nbformat_minor": 2
}
